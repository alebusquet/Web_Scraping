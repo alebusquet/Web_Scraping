{
 "cells": [
  {
   "attachments": {},
   "cell_type": "markdown",
   "metadata": {},
   "source": [
    "# Web Scraping usando Selenium\n",
    "\n",
    "#### Código en python que realiza los siguientes pasos:\n",
    "\n",
    "* Abre el navegador web\n",
    "\n",
    "* Ingresa a la pagina web https://www.adamchoi.co.uk/teamgoals/detailed\n",
    "* Selecciona el boton 'All matches'\n",
    "* Selecciona el país 'Spain'\n",
    "* Extrae la información de todos los partidos\n",
    "* Cierra el navegador web\n",
    "* Pasa todo a dataframe\n",
    "* Presenta la información por pantalla\n",
    "* Crea la carpeta 'files' para guardar el archivo 'partidos.csv'"
   ]
  },
  {
   "cell_type": "code",
   "execution_count": 87,
   "metadata": {},
   "outputs": [],
   "source": [
    "from selenium import webdriver\n",
    "from selenium.webdriver.support.ui import Select\n",
    "import pandas as pd\n",
    "import time\n",
    "import os"
   ]
  },
  {
   "attachments": {},
   "cell_type": "markdown",
   "metadata": {},
   "source": [
    "##### --> Abrir el navegador web e ingresar a la página"
   ]
  },
  {
   "cell_type": "code",
   "execution_count": 79,
   "metadata": {},
   "outputs": [],
   "source": [
    "# Establecer la pagina web a trabajar\n",
    "website = 'https://www.adamchoi.co.uk/teamgoals/detailed'\n",
    "\n",
    "# Estblecer la ruta del archibo ChromeDriver descargado\n",
    "path = '/Users/mac/Desktop/Web_Scraping/2-Selenium/ChromeDriver/chromedriver'"
   ]
  },
  {
   "attachments": {},
   "cell_type": "markdown",
   "metadata": {},
   "source": [
    "*** IMPORTANTE ***\n",
    "\n",
    "* Si al ejecutar el código del box de abajo devuelve el error: \"La app chromedriver no se puede abrir porque el desarrollador no puede verificarse. No se puede verificar que esta app no contiene software malicioso\"\n",
    "\n",
    "* En Configuración del Sistema ir a Ajustes de sistema / Privacidad y seguridad / Seguridad / se verá la leyenda \"Se ha bloqueado el uso de chromedriver...\" --> \"Permitir de todos modos\"\n",
    "\n",
    "* Volver al VSC y volver a correr el codigo"
   ]
  },
  {
   "cell_type": "code",
   "execution_count": 80,
   "metadata": {},
   "outputs": [
    {
     "name": "stderr",
     "output_type": "stream",
     "text": [
      "/var/folders/kg/01lphnns7wq7wxsptrz_jyc00000gq/T/ipykernel_58699/2213360679.py:2: DeprecationWarning: executable_path has been deprecated, please pass in a Service object\n",
      "  driver = webdriver.Chrome(path)\n"
     ]
    }
   ],
   "source": [
    "# Definir la variable que abrira la web\n",
    "driver = webdriver.Chrome(path)\n",
    "\n",
    "# Dar la indicación para que abra la web\n",
    "driver.get(website)"
   ]
  },
  {
   "attachments": {},
   "cell_type": "markdown",
   "metadata": {},
   "source": [
    "##### --> Seleccionar el botón que dice \"All Matches\""
   ]
  },
  {
   "cell_type": "code",
   "execution_count": 36,
   "metadata": {},
   "outputs": [
    {
     "data": {
      "text/plain": [
       "'\\nall_matches_button = driver.find_element(by=\\'xpath\\', value=\\'//*[@id=\"page-wrapper\"]/div/home-away-selector/div/div/div/div/label[2]\\')\\nall_matches_button.click()\\n'"
      ]
     },
     "execution_count": 36,
     "metadata": {},
     "output_type": "execute_result"
    }
   ],
   "source": [
    "# --> Método 1: usando Xpath ABSOLUTO\n",
    "\n",
    "# Ingresar al código html de la página, mediante la opción 'Inspect' y usar \"Select an element in the page to inspect it\"\n",
    "# Ubicar el código del botón 'All matches'\n",
    "# Click derecho, Copy, Xpath\n",
    "# Pegarlo como value en el comando 'driver.find_element'\n",
    "\n",
    "'''\n",
    "all_matches_button = driver.find_element(by='xpath', value='//*[@id=\"page-wrapper\"]/div/home-away-selector/div/div/div/div/label[2]')\n",
    "all_matches_button.click()\n",
    "'''\n",
    "\n",
    "# Si bien esto funciona, no es la manera conveniente porque al ser tan extenso, contiene muchas dependencias,\n",
    "# lo que implica que ante un mínimo cambio en la estructura de la web, devolverá error."
   ]
  },
  {
   "cell_type": "code",
   "execution_count": 84,
   "metadata": {},
   "outputs": [],
   "source": [
    "# --> Método 2: usando Xpath RELATIVO\n",
    "\n",
    "# Entonces, del mismo cödigo del botón identificado arriba, se edita el xpath absoluto:\n",
    "\n",
    "all_matches_button = driver.find_element(by='xpath', value='//label[@analytics-event=\"All matches\"]') \n",
    "all_matches_button.click()\n",
    "\n",
    "# Como opción, se podría utilizar la clase como parámetro, pero no se utilioza porque resulta también \n",
    "# extensa y porque existe la alternativa que se aplicó en el código. Pero era otra posibilidad.\n",
    "\n",
    "# La instrucción se leería como:\n",
    "# Buscame un tag 'xpath' que tenga un atributo 'analytics-event' con un texto 'All matches'."
   ]
  },
  {
   "attachments": {},
   "cell_type": "markdown",
   "metadata": {},
   "source": [
    "#### --> Seleccionar el país 'Spain' (dentro del menú desplegable 'Select country')"
   ]
  },
  {
   "cell_type": "code",
   "execution_count": 85,
   "metadata": {},
   "outputs": [],
   "source": [
    "# Luego de ubicar el código que corresponde al desplegable, seguir el orden de aplicación, siendo lo\n",
    "# primero buscar si dentro existe un id (porque son únicos). Y existe!\n",
    "# En este caso, al ser un desplegable y no un botón, el manejo es diferente ya que no se puede ver el \n",
    "# código puntual de 'Spain', sino que se accede sólo al del desplegable.\n",
    "# Para estos casos se necesita la librería Select, perteneciente a Selenium.\n",
    "\n",
    "dropdown = Select(driver.find_element(by='id', value='country'))\n",
    "dropdown.select_by_visible_text('Spain')"
   ]
  },
  {
   "cell_type": "code",
   "execution_count": null,
   "metadata": {},
   "outputs": [],
   "source": [
    "# Otra opción hubiera sido:\n",
    "\n",
    "# Para pasar una referencia sobre la porción del código con la que queremos trabajar, se puede tomar un\n",
    "# identificador de alguno de los nodos padres del elemento que necesitamos usar. Esto porque a veces no\n",
    "# hay un identificador que sea único, por lo que es útil usar alguna referencia de los nodos padres y\n",
    "# acotar el sector del código que se pasa como parámetro.\n",
    "\n",
    "'''\n",
    "caja = driver.find_element(by='class_name', value='panel-body')\n",
    "\n",
    "# Y luego usar:\n",
    "dropdown = Select(caja.find_element(by='id', value='country'))\n",
    "'''\n"
   ]
  },
  {
   "cell_type": "code",
   "execution_count": 88,
   "metadata": {},
   "outputs": [],
   "source": [
    "# Establecer 5 segundos de espera por el tiempo de carga que tiene la página\n",
    "time.sleep(5)"
   ]
  },
  {
   "attachments": {},
   "cell_type": "markdown",
   "metadata": {},
   "source": [
    "##### --> Extracción de los datos de todos los partidos (desde la caja de los matches)"
   ]
  },
  {
   "cell_type": "code",
   "execution_count": 89,
   "metadata": {},
   "outputs": [],
   "source": [
    "# Lo primero es identificar, en el código, un patrón común que permita agrupar los datos a extraer ('tr').\n",
    "# Ahora el 'find_elements' va con la 's' al final porque aca el tag 'tr' no es unico, sino que hay muchos.\n",
    "\n",
    "matches = driver.find_elements(by='xpath', value='//tr')"
   ]
  },
  {
   "cell_type": "code",
   "execution_count": 90,
   "metadata": {},
   "outputs": [],
   "source": [
    "# En matches ya están cargados todos los partidos. Ahora va entrando en cada uno para mandarlos a una lista.\n",
    "\n",
    "partidos = []\n",
    "for match in matches:\n",
    "    #print(match.text)\n",
    "    partidos.append(match.text)"
   ]
  },
  {
   "attachments": {},
   "cell_type": "markdown",
   "metadata": {},
   "source": [
    "##### --> Cerrar el navegador web"
   ]
  },
  {
   "cell_type": "code",
   "execution_count": 91,
   "metadata": {},
   "outputs": [],
   "source": [
    "# Se cierra el driver (que se habia abierto con el 'get').\n",
    "driver.quit()"
   ]
  },
  {
   "attachments": {},
   "cell_type": "markdown",
   "metadata": {},
   "source": [
    "##### --> Pasar los datos a dataframe, mostrar por pantalla y guardar en disco"
   ]
  },
  {
   "cell_type": "code",
   "execution_count": 92,
   "metadata": {},
   "outputs": [
    {
     "name": "stdout",
     "output_type": "stream",
     "text": [
      "                        Partidos de La Liga\n",
      "0      14-08-2022 Almeria 1 - 2 Real Madrid\n",
      "1            22-08-2022 Elche 1 - 1 Almeria\n",
      "2          27-08-2022 Almeria 2 - 1 Sevilla\n",
      "3       05-09-2022 Valladolid 1 - 0 Almeria\n",
      "4          12-09-2022 Almeria 0 - 1 Osasuna\n",
      "..                                      ...\n",
      "695     27-04-2023 Villarreal 4 - 2 Espanol\n",
      "696       30-04-2023 Villarreal 3 - 1 Celta\n",
      "697    03-05-2023 Valencia 1 - 1 Villarreal\n",
      "698  13-05-2023 Villarreal 5 - 1 Ath Bilbao\n",
      "699      20-05-2023 Girona ? - ? Villarreal\n",
      "\n",
      "[700 rows x 1 columns]\n"
     ]
    }
   ],
   "source": [
    "# Mediante pandas, se convierten los datos a dataframe.\n",
    "df = pd.DataFrame({'Partidos de La Liga' : partidos})\n",
    "\n",
    "# Mostrar por pantalla.\n",
    "print(df)\n",
    "\n",
    "# Crear la carpeta para guardar el archivo, si no existe.\n",
    "path = \"./Files\"\n",
    "if not os.path.exists(path):\n",
    "    os.makedirs(path)\n",
    "\n",
    "# Guardar los datos en archivo.\n",
    "df.to_csv('./Files/partidos.csv', index=False)"
   ]
  }
 ],
 "metadata": {
  "kernelspec": {
   "display_name": "WebScrap_Sel",
   "language": "python",
   "name": "python3"
  },
  "language_info": {
   "codemirror_mode": {
    "name": "ipython",
    "version": 3
   },
   "file_extension": ".py",
   "mimetype": "text/x-python",
   "name": "python",
   "nbconvert_exporter": "python",
   "pygments_lexer": "ipython3",
   "version": "3.10.4"
  },
  "orig_nbformat": 4
 },
 "nbformat": 4,
 "nbformat_minor": 2
}
